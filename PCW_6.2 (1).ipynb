{
 "cells": [
  {
   "cell_type": "code",
   "execution_count": 1,
   "metadata": {},
   "outputs": [],
   "source": [
    "#Import packages and the data\n",
    "\n",
    "import numpy as np\n",
    "import scipy.stats as sts\n",
    "import pandas as pd\n",
    "\n",
    "data = pd.read_csv(\"socialmobility.csv\")"
   ]
  },
  {
   "cell_type": "code",
   "execution_count": 2,
   "metadata": {},
   "outputs": [
    {
     "name": "stdout",
     "output_type": "stream",
     "text": [
      "          father           son  count\n",
      "0           farm          farm    703\n",
      "1           farm     unskilled   1478\n",
      "2           farm       skilled   1430\n",
      "3           farm  professional   1109\n",
      "4      unskilled          farm     58\n",
      "5      unskilled     unskilled   1756\n",
      "6      unskilled       skilled   1630\n",
      "7      unskilled  professional   1568\n",
      "8        skilled          farm     63\n",
      "9        skilled     unskilled   1453\n",
      "10       skilled       skilled   2068\n",
      "11       skilled  professional   2483\n",
      "12  professional          farm     61\n",
      "13  professional     unskilled    749\n",
      "14  professional       skilled   1183\n",
      "15  professional  professional   3315\n"
     ]
    }
   ],
   "source": [
    "#Show the data\n",
    "print(data)"
   ]
  },
  {
   "cell_type": "code",
   "execution_count": 3,
   "metadata": {},
   "outputs": [
    {
     "name": "stdout",
     "output_type": "stream",
     "text": [
      "      father           son  count\n",
      "4  unskilled          farm     58\n",
      "5  unskilled     unskilled   1756\n",
      "6  unskilled       skilled   1630\n",
      "7  unskilled  professional   1568\n",
      "          father           son  count\n",
      "3           farm  professional   1109\n",
      "7      unskilled  professional   1568\n",
      "11       skilled  professional   2483\n",
      "15  professional  professional   3315\n"
     ]
    }
   ],
   "source": [
    "#Define the uniform prior hyperparameters\n",
    "alpha_prior = [1,1,1,1]\n",
    "\n",
    "#define the two conditional dataframes\n",
    "\n",
    "df_father_unskill = data[data.father == \"unskilled\"]\n",
    "df_son_prof = data[data.son == \"professional\"]\n",
    "\n",
    "print(df_father_unskill)\n",
    "print(df_son_prof)"
   ]
  },
  {
   "cell_type": "code",
   "execution_count": 4,
   "metadata": {},
   "outputs": [
    {
     "name": "stdout",
     "output_type": "stream",
     "text": [
      "The lower bound of the 95% confidence interval is: 0.3025 and the upper bound is: 0.3098\n"
     ]
    }
   ],
   "source": [
    "#part 1\n",
    "\n",
    "#define the posterior hyperparameter\n",
    "alpha_post_p1 = alpha_prior + df_father_unskill[\"count\"]\n",
    "\n",
    "#sample 1000000 probabilities posterior\n",
    "p1_sampels = sts.dirichlet.rvs(alpha_post_p1, size=100000)\n",
    "\n",
    "#print the 95% confidence interval for father unskilled - son skilled\n",
    "confint_p1 = np.percentile(p1_sampels[:, 2], [0.025, 0.975])\n",
    "\n",
    "print(f\"The lower bound of the 95% confidence interval is: {round(confint_p1[0],4)} and the upper bound is: {round(confint_p1[1],4)}\")\n",
    "\n"
   ]
  },
  {
   "cell_type": "code",
   "execution_count": 5,
   "metadata": {},
   "outputs": [
    {
     "name": "stdout",
     "output_type": "stream",
     "text": [
      "The lower bound of the 95% confidence interval is: 0.1183 and the upper bound is: 0.1225\n"
     ]
    }
   ],
   "source": [
    "#part 2\n",
    "\n",
    "#define the posterior hyperparameter\n",
    "alpha_post_p2 = alpha_prior + df_son_prof[\"count\"]\n",
    "\n",
    "#sample 1000000 probabilities posterior\n",
    "p2_sampels = sts.dirichlet.rvs(alpha_post_p2, size=100000)\n",
    "\n",
    "#print the 95% confidence interval for father farm - son farm\n",
    "confint_p2 = np.percentile(p2_sampels[:, 0], [0.025, 0.975])\n",
    "\n",
    "print(f\"The lower bound of the 95% confidence interval is: {round(confint_p2[0],4)} and the upper bound is: {round(confint_p2[1],4)}\")\n",
    "\n"
   ]
  }
 ],
 "metadata": {
  "kernelspec": {
   "display_name": "Python 3",
   "language": "python",
   "name": "python3"
  },
  "language_info": {
   "codemirror_mode": {
    "name": "ipython",
    "version": 3
   },
   "file_extension": ".py",
   "mimetype": "text/x-python",
   "name": "python",
   "nbconvert_exporter": "python",
   "pygments_lexer": "ipython3",
   "version": "3.6.12"
  }
 },
 "nbformat": 4,
 "nbformat_minor": 4
}
