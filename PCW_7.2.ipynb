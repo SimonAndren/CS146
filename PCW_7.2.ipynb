{
  "nbformat": 4,
  "nbformat_minor": 0,
  "metadata": {
    "colab": {
      "name": "pre-class-work.ipynb",
      "provenance": [],
      "include_colab_link": true
    },
    "kernelspec": {
      "display_name": "Python 3 (Anaconda 2020)",
      "language": "python",
      "name": "anaconda2020"
    },
    "language_info": {
      "codemirror_mode": {
        "name": "ipython",
        "version": 3
      },
      "file_extension": ".py",
      "mimetype": "text/x-python",
      "name": "python",
      "nbconvert_exporter": "python",
      "pygments_lexer": "ipython3",
      "version": "3.7.8"
    }
  },
  "cells": [
    {
      "cell_type": "markdown",
      "metadata": {
        "id": "view-in-github",
        "colab_type": "text"
      },
      "source": [
        "<a href=\"https://colab.research.google.com/github/SimonAndren/CS146/blob/main/PCW_7.2.ipynb\" target=\"_parent\"><img src=\"https://colab.research.google.com/assets/colab-badge.svg\" alt=\"Open In Colab\"/></a>"
      ]
    },
    {
      "cell_type": "markdown",
      "metadata": {
        "collapsed": false,
        "id": "JQlK8s1ql9H7"
      },
      "source": [
        "# Modeling elections"
      ]
    },
    {
      "cell_type": "code",
      "metadata": {
        "id": "SdWARttFl9H9"
      },
      "source": [
        "import numpy as np\n",
        "import scipy.stats as sts\n",
        "import matplotlib.pyplot as plt\n",
        "import pystan"
      ],
      "execution_count": 1,
      "outputs": []
    },
    {
      "cell_type": "markdown",
      "metadata": {
        "collapsed": false,
        "id": "uXXPKhszl9H-"
      },
      "source": [
        "## Data\n",
        "\n",
        "The `electoral_votes` variable is a dictionary containing the number of Electoral College votes for each state. For example\n",
        "```\n",
        "  >>> electoral_votes['Indiana']\n",
        "  11\n",
        "```\n",
        "Data from [Wikipedia: United_States_Electoral_College](https://en.wikipedia.org/wiki/United_States_Electoral_College)\n",
        "\n",
        "The `survey_results` variable is a dictionary mapping from states to an array of survey results for each candidate. Each row in a survey results array represents one survey and each column represents one candidate. There are 3 columns, representing Trump (Republican), Biden (Democrat), and Other in that order. In the example below, Trump got 340 votes in the first survey, Biden got 258, and Other got 40.\n",
        "```\n",
        "  >>> survey_results['Indiana']\n",
        "  array([[340, 258,  40],\n",
        "         [240, 155,  10],\n",
        "         [235, 155,  70],\n",
        "         [308, 266,  84],\n",
        "         [222, 161, 110]])\n",
        "```\n",
        "Data from [Wikipedia: Statewide opinion polling for the 2020 United States presidential election](https://en.wikipedia.org/wiki/Statewide_opinion_polling_for_the_2020_United_States_presidential_election)\n"
      ]
    },
    {
      "cell_type": "code",
      "metadata": {
        "colab": {
          "base_uri": "https://localhost:8080/"
        },
        "id": "7M9cpNuBl9H-",
        "outputId": "75f0d86b-78d4-4325-866a-f26fa2ebdb5e"
      },
      "source": [
        "electoral_votes = {\n",
        "    'Alabama': 9,\n",
        "    'Alaska': 3,\n",
        "    'Arizona': 11,\n",
        "    'Arkansas': 6,\n",
        "    'Colorado': 9,\n",
        "}\n",
        "\n",
        "survey_results = {\n",
        "    'Alabama': np.array([[611, 397, 0, 0], [799, 528, 0, 0], [793, 403, 0, 0], [288, 264, 0, 0], [353, 219, 0, 0], [997, 554, 0, 0], [312, 232, 0, 0], [409, 227, 0, 0], [319, 234, 0, 0]]),\n",
        "    'Alaska': np.array([[348, 320, 0, 0], [298, 253, 0, 0], [283, 277, 0, 0], [269, 198, 0, 0], [227, 177, 0, 0], [442, 389, 0, 0], [519, 486, 0, 0], [325, 318, 0, 0], [84, 74, 0, 0]]),\n",
        "    'Arizona': np.array([[522, 478, 22, 0], [313, 356, 7, 7], [291, 304, 0, 0], [270, 288, 0, 0], [236, 264, 16, 0], [180, 184, 0, 0], [133, 151, 0, 0], [269, 321, 20, 0], [230, 250, 5, 0], [3337, 3621, 0, 0], [360, 392, 0, 0], [235, 235, 0, 0], [364, 396, 8, 0], [383, 409, 9, 9], [221, 216, 0, 0], [113, 128, 0, 0], [284, 278, 0, 0], [168, 212, 0, 0], [258, 270, 0, 0], [260, 266, 0, 0], [359, 402, 9, 0], [185, 202, 17, 0], [261, 320, 26, 0], [519, 584, 0, 0], [328, 342, 0, 0], [487, 520, 0, 0], [252, 312, 0, 0], [752, 768, 0, 0], [414, 441, 0, 0], [212, 230, 0, 0], [357, 398, 0, 8], [309, 378, 23, 0], [3357, 3034, 0, 0], [396, 490, 0, 0], [162, 169, 0, 0], [325, 402, 9, 9], [445, 426, 0, 0], [311, 350, 0, 0], [188, 193, 0, 0], [466, 456, 30, 0], [271, 295, 0, 0], [204, 192, 0, 0], [522, 547, 24, 12], [2547, 2348, 0, 0], [164, 172, 0, 0], [381, 445, 0, 0], [393, 428, 0, 0], [326, 395, 17, 9], [372, 413, 0, 0], [432, 470, 0, 0], [315, 343, 0, 0], [155, 176, 0, 0], [500, 500, 0, 0], [264, 294, 0, 0], [1230, 1088, 0, 0], [270, 282, 0, 0], [137, 159, 0, 0], [258, 237, 0, 0], [337, 372, 17, 9], [266, 312, 0, 0], [616, 670, 0, 0], [88, 90, 0, 0], [421, 461, 0, 0], [148, 145, 0, 0], [368, 353, 0, 0], [180, 188, 0, 0], [388, 426, 0, 0], [258, 300, 0, 0], [230, 235, 0, 0], [258, 312, 0, 0]]),\n",
        "    'Arkansas': np.array([[478, 293, 0, 0], [462, 220, 0, 0], [493, 239, 0, 0], [209, 135, 0, 0], [408, 391, 0, 0]]),\n",
        "    'Colorado': np.array([[408, 510, 0, 0], [1114, 1549, 0, 0], [283, 322, 0, 0], [320, 400, 0, 0], [312, 400, 32, 8], [978, 1359, 0, 0], [262, 325, 0, 0], [252, 306, 0, 0], [246, 307, 0, 0], [246, 306, 0, 0], [240, 312, 0, 0], [935, 1355, 0, 0], [240, 320, 0, 0], [246, 306, 0, 0], [365, 481, 0, 0], [328, 470, 0, 0], [457, 620, 0, 0], [240, 286, 0, 0], [280, 371, 0, 0], [216, 330, 0, 0], [133, 201, 0, 0]]),\n",
        "}\n",
        "\n",
        "for key, value in survey_results.items():\n",
        "    survey_results[key] = np.concatenate((value[:,:2], value[:,2:3] + value[:,3:4]), axis=1)\n",
        "\n",
        "states = sorted(survey_results.keys())\n",
        "print('Modeling', len(states), 'states with', sum(electoral_votes[s] for s in states), 'electoral college votes')"
      ],
      "execution_count": 2,
      "outputs": [
        {
          "output_type": "stream",
          "text": [
            "Modeling 5 states with 38 electoral college votes\n"
          ],
          "name": "stdout"
        }
      ]
    },
    {
      "cell_type": "markdown",
      "metadata": {
        "collapsed": false,
        "id": "aBTpLHSil9H_"
      },
      "source": [
        "## Generative model\n",
        "\n",
        "1. For each state we generate an $\\vec{\\alpha}$ vector, which defines a Dirichlet distribution over the proportion of votes that go to each of the 3 candidates whenever we do a survey – including the final survey, namely the election itself which we want to predict. The prior over each component of $\\vec{\\alpha}$ is taken as a Cauchy distribution with location 0 and scale 1. Since the components of $\\vec{\\alpha}$ are positive, we actually use the positive half-Cauchy distribution.\n",
        "\n",
        "2. For each survey in a state we generate a probability vector $\\vec{p_i} \\sim \\text{Dirichlet}(\\vec{\\alpha})$ for the probability that a voter selects each of the 3 candidates.\n",
        "\n",
        "3. For each survey, we then generate the number of votes going to each candidate as $\\vec{k_i} \\sim \\text{Multinomial}(\\vec{p_i})$.\n",
        "\n",
        "### Tasks\n",
        "\n",
        "* Use Stan to sample from the posterior distribution over $\\alpha$ and visualize your results. There are 5 states, so you will have 5 posteriors.\n",
        "* The posteriors over $\\alpha$ show a lot of variation between different states. Explain the results you get in terms of the model and the data."
      ]
    },
    {
      "cell_type": "code",
      "metadata": {
        "colab": {
          "base_uri": "https://localhost:8080/"
        },
        "id": "RFrvwsa7l9IA",
        "outputId": "92807a1b-77a6-4b27-9f35-108c31d87223"
      },
      "source": [
        "stan_code = '''\n",
        "data {\n",
        "  int<lower=1> nr_surveys; // The number of polls\n",
        "  int<lower=1> nr_candidates; //Number of candidates points\n",
        "  int<lower=0> survey[nr_surveys, nr_candidates]; // Matrix of polling data\n",
        "}\n",
        "\n",
        "parameters {\n",
        "  vector[nr_candidates] alpha; // alpha hyperprior\n",
        "  simplex[nr_candidates] theta[nr_surveys]; //prior pi for each survey\n",
        "}\n",
        "\n",
        "model {\n",
        "\n",
        "  for (i in 1:nr_candidates){\n",
        "      alpha[i] ~ cauchy(0, 1); // Hyperprior\n",
        "      }\n",
        "  for (i in 1:nr_surveys) {\n",
        "      theta[i] ~ dirichlet(alpha); //prior theta for the ith sample\n",
        "      survey[i] ~ multinomial(theta[i]); // likelihood function\n",
        "      }\n",
        "}\n",
        "'''\n",
        "stan_model = pystan.StanModel(model_code=stan_code)"
      ],
      "execution_count": 3,
      "outputs": [
        {
          "output_type": "stream",
          "text": [
            "INFO:pystan:COMPILING THE C++ CODE FOR MODEL anon_model_ff74fa90b978192064bc7aa89e7d0626 NOW.\n"
          ],
          "name": "stderr"
        }
      ]
    },
    {
      "cell_type": "code",
      "metadata": {
        "id": "OuIzW1l4l9IA"
      },
      "source": [
        "#All the model data\n",
        "data_Alabama = {\n",
        "    \"nr_surveys\": len(survey_results[\"Alabama\"]),\n",
        "    \"nr_candidates\": 3,\n",
        "    \"survey\": survey_results[\"Alabama\"]\n",
        "}\n",
        "\n",
        "data_Alaska = {\n",
        "    \"nr_surveys\": len(survey_results[\"Alaska\"]),\n",
        "    \"nr_candidates\": 3,\n",
        "    \"survey\": survey_results[\"Alaska\"]\n",
        "}\n",
        "\n",
        "data_Arizona = {\n",
        "    \"nr_surveys\": len(survey_results[\"Arizona\"]),\n",
        "    \"nr_candidates\": 3,\n",
        "    \"survey\": survey_results[\"Arizona\"]\n",
        "}\n",
        "\n",
        "data_Arkansas = {\n",
        "    \"nr_surveys\": len(survey_results[\"Arkansas\"]),\n",
        "    \"nr_candidates\": 3,\n",
        "    \"survey\": survey_results[\"Arkansas\"]\n",
        "}\n",
        "\n",
        "data_Colorado = {\n",
        "    \"nr_surveys\": len(survey_results[\"Colorado\"]),\n",
        "    \"nr_candidates\": 3,\n",
        "    \"survey\": survey_results[\"Colorado\"]\n",
        "}"
      ],
      "execution_count": 4,
      "outputs": []
    },
    {
      "cell_type": "code",
      "metadata": {
        "colab": {
          "base_uri": "https://localhost:8080/"
        },
        "id": "o65BOi7np3qa",
        "outputId": "00832c35-143a-4af0-8a93-77ec3988fca2"
      },
      "source": [
        "#All the posteriors\n",
        "posterior_Alabama = stan_model.sampling(data = data_Alabama)\n",
        "posterior_Alaska = stan_model.sampling(data = data_Alaska)\n",
        "posterior_Arizona = stan_model.sampling(data = data_Arizona)\n",
        "posterior_Arkansas = stan_model.sampling(data = data_Arkansas)\n",
        "posterior_Colorado = stan_model.sampling(data = data_Colorado)"
      ],
      "execution_count": 5,
      "outputs": [
        {
          "output_type": "stream",
          "text": [
            "WARNING:pystan:1475 of 4000 iterations ended with a divergence (36.9 %).\n",
            "WARNING:pystan:Try running with adapt_delta larger than 0.8 to remove the divergences.\n",
            "WARNING:pystan:Rhat above 1.1 or below 0.9 indicates that the chains very likely have not mixed\n",
            "WARNING:pystan:1279 of 4000 iterations ended with a divergence (32 %).\n",
            "WARNING:pystan:Try running with adapt_delta larger than 0.8 to remove the divergences.\n",
            "WARNING:pystan:442 of 4000 iterations saturated the maximum tree depth of 10 (11.1 %)\n",
            "WARNING:pystan:Run again with max_treedepth larger than 10 to avoid saturation\n",
            "WARNING:pystan:1348 of 4000 iterations ended with a divergence (33.7 %).\n",
            "WARNING:pystan:Try running with adapt_delta larger than 0.8 to remove the divergences.\n",
            "WARNING:pystan:1333 of 4000 iterations ended with a divergence (33.3 %).\n",
            "WARNING:pystan:Try running with adapt_delta larger than 0.8 to remove the divergences.\n",
            "WARNING:pystan:2154 of 4000 iterations ended with a divergence (53.9 %).\n",
            "WARNING:pystan:Try running with adapt_delta larger than 0.8 to remove the divergences.\n"
          ],
          "name": "stderr"
        }
      ]
    },
    {
      "cell_type": "code",
      "metadata": {
        "id": "CZxNG_XhRYEh"
      },
      "source": [
        "#the alpha samples and the posterior predictive samples \n",
        "samples_alabama = posterior_Alabama.extract()\n",
        "\n",
        "p_predicted_alabama = np.empty(samples_alabama[\"alpha\"].shape)\n",
        "\n",
        "for i in range(samples_alabama[\"alpha\"].shape[0]):\n",
        "  p_predicted_alabama[i] = sts.dirichlet(samples_alabama[\"alpha\"][i]).rvs()"
      ],
      "execution_count": 6,
      "outputs": []
    },
    {
      "cell_type": "code",
      "metadata": {
        "id": "8o15YeSqmqDs"
      },
      "source": [
        "samples_alaska = posterior_Alaska.extract()\n",
        "\n",
        "p_predicted_alaska = np.empty(samples_alaska[\"alpha\"].shape)\n",
        "\n",
        "for i in range(samples_alaska[\"alpha\"].shape[0]):\n",
        "  p_predicted_alaska[i] = sts.dirichlet(samples_alaska[\"alpha\"][i]).rvs()\n"
      ],
      "execution_count": 7,
      "outputs": []
    },
    {
      "cell_type": "code",
      "metadata": {
        "id": "v0Hit_a8mqSb"
      },
      "source": [
        "samples_arizona = posterior_Arizona.extract()\n",
        "\n",
        "p_predicted_arizona = np.empty(samples_arizona[\"alpha\"].shape)\n",
        "\n",
        "for i in range(samples_arizona[\"alpha\"].shape[0]):\n",
        "  p_predicted_arizona[i] = sts.dirichlet(samples_arizona[\"alpha\"][i]).rvs()\n"
      ],
      "execution_count": 8,
      "outputs": []
    },
    {
      "cell_type": "code",
      "metadata": {
        "id": "zZ5zcT04mqWH"
      },
      "source": [
        "samples_arkansas = posterior_Arkansas.extract()\n",
        "\n",
        "p_predicted_arkansas = np.empty(samples_arkansas[\"alpha\"].shape)\n",
        "\n",
        "for i in range(samples_arkansas[\"alpha\"].shape[0]):\n",
        "  p_predicted_arkansas[i] = sts.dirichlet(samples_arkansas[\"alpha\"][i]).rvs()\n"
      ],
      "execution_count": 9,
      "outputs": []
    },
    {
      "cell_type": "code",
      "metadata": {
        "id": "rhI1IBeNmqeL"
      },
      "source": [
        "samples_colorado = posterior_Colorado.extract()\n",
        "\n",
        "p_predicted_colorado = np.empty(samples_colorado[\"alpha\"].shape)\n",
        "\n",
        "for i in range(samples_colorado[\"alpha\"].shape[0]):\n",
        "  p_predicted_colorado[i] = sts.dirichlet(samples_colorado[\"alpha\"][i]).rvs()\n"
      ],
      "execution_count": 10,
      "outputs": []
    },
    {
      "cell_type": "markdown",
      "metadata": {
        "collapsed": false,
        "id": "p26v2soBl9IA"
      },
      "source": [
        "## Simulation time\n",
        "\n",
        "Use the posterior samples to predict the outcome of the presidential elections.\n",
        "\n",
        "* Predict the probability that each candidate will win each state.\n",
        "   * Use the posterior $\\alpha$ samples to generate posterior predictive samples for $p$ – the proportion of votes each candidate would get in each state in an election.\n",
        "   * Use these $p$ samples to estimate the probability that each candidate will win each state.\n",
        "* Predict the probability that each candidate will win the presidential election.\n",
        "   * Use the posterior predictive probability that each candidate will win each state to generate samples over the total number Electoral College votes each candidate would get in an election.\n",
        "   * Use the total number of votes to generate samples over who would win the election."
      ]
    },
    {
      "cell_type": "markdown",
      "metadata": {
        "id": "e6YpckLbn1gP"
      },
      "source": [
        "### Probability of victory in each state"
      ]
    },
    {
      "cell_type": "code",
      "metadata": {
        "colab": {
          "base_uri": "https://localhost:8080/"
        },
        "id": "jtHVDVxYn58k",
        "outputId": "14339fb7-4db8-4223-ba4f-9a71826e7cfa"
      },
      "source": [
        "prob_rep_ala = np.mean(p_predicted_alabama[:, 0] > p_predicted_alabama[:, 1])\n",
        "\n",
        "print(f\"probability of victory in Alabama for republicans are: {prob_rep_ala}\")\n",
        "\n",
        "prob_rep_alaska = np.mean(p_predicted_alaska[:, 0] > p_predicted_alaska[:, 1])\n",
        "\n",
        "print(f\"probability of victory in alaska for republicans are: {prob_rep_alaska}\")\n",
        "\n",
        "prob_rep_ari = np.mean(p_predicted_arizona[:, 0] > p_predicted_arizona[:, 1])\n",
        "\n",
        "print(f\"probability of victory in Arizona for republicans are: {prob_rep_ari}\")\n",
        "\n",
        "prob_rep_ark = np.mean(p_predicted_arkansas[:, 0] > p_predicted_arkansas[:, 1])\n",
        "\n",
        "print(f\"probability of victory in Arkansas for republicans are: {prob_rep_ark}\")\n",
        "\n",
        "prob_rep_col = np.mean(p_predicted_colorado[:, 0] > p_predicted_colorado[:, 1])\n",
        "\n",
        "print(f\"probability of victory in Colorado for republicans are: {prob_rep_col}\")"
      ],
      "execution_count": 11,
      "outputs": [
        {
          "output_type": "stream",
          "text": [
            "probability of victory in Alabama for republicans are: 0.9575\n",
            "probability of victory in alaska for republicans are: 0.899\n",
            "probability of victory in Arizona for republicans are: 0.3635\n",
            "probability of victory in Arkansas for republicans are: 0.8095\n",
            "probability of victory in Colorado for republicans are: 0.0535\n"
          ],
          "name": "stdout"
        }
      ]
    },
    {
      "cell_type": "code",
      "metadata": {
        "id": "WZuABqdMrdfQ"
      },
      "source": [
        "#sample number of electrial collage votes obtained from the states\n",
        "votes_rep_sample = []\n",
        "\n",
        "for i in range(1000):\n",
        "  votes_rep_sample.append(sts.bernoulli(prob_rep_ala).rvs()*9 + sts.bernoulli(prob_rep_alaska).rvs()*3 \n",
        "                          + sts.bernoulli(prob_rep_ari).rvs()*11 + sts.bernoulli(prob_rep_ark).rvs()*6 + sts.bernoulli(prob_rep_col).rvs()*9)"
      ],
      "execution_count": 12,
      "outputs": []
    },
    {
      "cell_type": "code",
      "metadata": {
        "colab": {
          "base_uri": "https://localhost:8080/"
        },
        "id": "mU7GARbmuBQi",
        "outputId": "ac91cae3-94ff-45cc-ac66-0d001c440823"
      },
      "source": [
        "print(f\"The most likely number of votes the republicans will have in an election is {np.median(votes_rep_sample)}\")\n",
        "print(f\"The 95% confidence interval over number of republican votes is {np.percentile(votes_rep_sample, [2.5, 97.5])}\")\n",
        "print(f\"The probability that the republicans win the election only factoring these polls results are: {100*np.mean(np.array(votes_rep_sample) > 38/2)}%\")"
      ],
      "execution_count": 14,
      "outputs": [
        {
          "output_type": "stream",
          "text": [
            "The most likely number of votes the republicans will have in an election is 18.0\n",
            "The 95% confidence interval over number of republican votes is [ 9. 32.]\n",
            "The probability that the republicans win the election only factoring these polls results are: 41.4%\n"
          ],
          "name": "stdout"
        }
      ]
    }
  ]
}