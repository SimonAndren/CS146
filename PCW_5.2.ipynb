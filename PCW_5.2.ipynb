{
  "nbformat": 4,
  "nbformat_minor": 0,
  "metadata": {
    "kernelspec": {
      "display_name": "Python 3",
      "language": "python",
      "name": "python3"
    },
    "language_info": {
      "codemirror_mode": {
        "name": "ipython",
        "version": 3
      },
      "file_extension": ".py",
      "mimetype": "text/x-python",
      "name": "python",
      "nbconvert_exporter": "python",
      "pygments_lexer": "ipython3",
      "version": "3.6.3"
    },
    "colab": {
      "name": "ee6e7d43fb6be2aba4f458bcd86c197c#file-cs146-5-1-pre-class-work-ipynb",
      "provenance": []
    }
  },
  "cells": [
    {
      "cell_type": "code",
      "metadata": {
        "collapsed": true,
        "id": "0PkaR5tDpd4O"
      },
      "source": [
        "import pystan\n",
        "\n",
        "import numpy as np\n",
        "import matplotlib.pyplot as plt"
      ],
      "execution_count": 1,
      "outputs": []
    },
    {
      "cell_type": "code",
      "metadata": {
        "collapsed": true,
        "id": "pZtL0N8vpd4O"
      },
      "source": [
        "# For Stan we provide all known quantities as data, namely the observed data\n",
        "# and our prior hyperparameters.\n",
        "eczema_data = {\n",
        "    'treatment': {\n",
        "        'alpha': 1,  # fixed prior hyperparameters for the\n",
        "        'beta': 1,   # beta distribution\n",
        "        'num_trials': 6,  # number of trials in the data set\n",
        "        'patients': [23, 16, 16, 45, 31, 10],  # number of patients per trial\n",
        "        'improved': [20, 10, 13, 35, 22, 7]},  # number of improved patients per trial\n",
        "    'control': {\n",
        "        'alpha': 1,\n",
        "        'beta': 1,\n",
        "        'num_trials': 6,\n",
        "        'patients': [15, 18, 10, 39, 29, 10],\n",
        "        'improved': [9, 11, 4, 21, 12, 0]}}"
      ],
      "execution_count": 2,
      "outputs": []
    },
    {
      "cell_type": "markdown",
      "metadata": {
        "id": "qmzgF3dqpd4M"
      },
      "source": [
        "# Pre-class work\n",
        "Below is the data set from 6 medical trials on the effect of specific allergen immunotherapy (SIT) on eczema patients.\n",
        "\n",
        "| Study          | TG improved      | TG not improved   | CG improved    | CG not improved   |\n",
        "|:-------------- | --------:| ------:| ------:| ------:|\n",
        "| Di Rienzo 2014 | 20       | 3      | 9      | 6      |\n",
        "| Galli 1994     | 10       | 6      | 11     | 7      |\n",
        "| Kaufman 1974   | 13       | 3      | 4      | 6      |\n",
        "| Qin 2014       | 35       | 10     | 21     | 18     |\n",
        "| Sanchez 2012   | 22       | 9      | 12     | 17     |\n",
        "| Silny 2006     | 7        | 3      | 0      | 10     |\n",
        "| **Totals**     | **107**  | **34** | **57** | **64** |\n",
        "\n",
        "* TG = Treatment group\n",
        "* CG = Control group\n",
        "\n",
        "The model we used was that each trial's results were generated from a binomial distribution over the number of improved patients with a common improvement rate parameter shared between all trials.\n",
        "\n",
        "For the treatment group we use a subscript $t$:\n",
        "\n",
        "$$\\begin{align}\n",
        "k_{ti} &\\sim \\text{Binomial}(n_{ti}, p_t) \\qquad i=1,2,\\ldots 6\\\\\n",
        "p_t &\\sim \\text{Beta}(\\alpha=1, \\beta=1)\n",
        "\\end{align}$$\n",
        "\n",
        "For the control group we use a subscript $c$:\n",
        "\n",
        "$$\\begin{align}\n",
        "k_{ci} &\\sim \\text{Binomial}(n_{ci}, p_c) \\qquad i=1,2,\\ldots 6\\\\\n",
        "p_c &\\sim \\text{Beta}(\\alpha=1, \\beta=1)\n",
        "\\end{align}$$\n",
        "\n",
        "So we have the same model structure for the treatment and control groups, just with different data.\n",
        "\n",
        "The code below implements the Stan model for the scenario above.\n",
        "\n",
        "* Carefully **read through the code**, including all comments, to understand how Stan is used to represent the medical trial model.\n",
        "* **Run the code** to see inference results for the treatment group.\n",
        "* **Complete the two tasks** at the end of the notebook."
      ]
    },
    {
      "cell_type": "code",
      "metadata": {
        "collapsed": true,
        "id": "l-qF7Qq1pd4P"
      },
      "source": [
        "# Below is the Stan code for the medical trial data set. Note that the Stan\n",
        "# code is a string that is passed to the StanModel object below.\n",
        "\n",
        "# We have to tell Stan what data to expect, what our parameters are and what\n",
        "# the likelihood and prior are. Since the posterior is just proportional to\n",
        "# the product of the likelihood and the prior, we don't distinguish between\n",
        "# them explicitly in the model below. Every distribution we specify is\n",
        "# automatically incorporated into the product of likelihood * prior.\n",
        "\n",
        "stan_code = \"\"\"\n",
        "\n",
        "// The data block contains all known quantities - typically the observed\n",
        "// data and any constant hyperparameters.\n",
        "data {  \n",
        "    int<lower=1> num_trials;  // number of trials in the data set\n",
        "    int<lower=0> patients[num_trials];  // number of patients per trial\n",
        "    int<lower=0> improved[num_trials];  // number of improved patients per trial\n",
        "    real<lower=0> alpha;  // fixed prior hyperparameter\n",
        "    real<lower=0> beta;   // fixed prior hyperparameter\n",
        "}\n",
        "\n",
        "// The parameters block contains all unknown quantities - typically the\n",
        "// parameters of the model. Stan will generate samples from the posterior\n",
        "// distributions over all parameters.\n",
        "parameters {\n",
        "    real<lower=0,upper=1> p;  // probability of improvement - the\n",
        "                              // parameter of the binomial likelihood\n",
        "}\n",
        "\n",
        "// The model block contains all probability distributions in the model.\n",
        "// This of this as specifying the generative model for the scenario.\n",
        "model {\n",
        "    p ~ beta(alpha, beta);  // prior over p\n",
        "    for(i in 1:num_trials) {\n",
        "        improved[i] ~ binomial(patients[i], p);  // likelihood function\n",
        "    }\n",
        "}\n",
        "\n",
        "\"\"\""
      ],
      "execution_count": 3,
      "outputs": []
    },
    {
      "cell_type": "code",
      "metadata": {
        "collapsed": true,
        "id": "CzDtHZgzpd4P",
        "colab": {
          "base_uri": "https://localhost:8080/"
        },
        "outputId": "1a44a88c-f5e0-4325-a2b3-8cb340f9447d"
      },
      "source": [
        "# This cell takes a while to run. Compiling a Stan model will feel slow even\n",
        "# on simple models, but it isn't much slower for really complex models. Stan\n",
        "# is translating the model specified above to C++ code and compiling the C++\n",
        "# code to a binary that it can executed. The advantage is that the model needs\n",
        "# to be compiled only once. Once that is done, the same code can be reused\n",
        "# to generate samples for different data sets really quickly.\n",
        "\n",
        "stan_model = pystan.StanModel(model_code=stan_code)"
      ],
      "execution_count": 4,
      "outputs": [
        {
          "output_type": "stream",
          "text": [
            "INFO:pystan:COMPILING THE C++ CODE FOR MODEL anon_model_4822bea325d0250e03828b3bc1bb8bdd NOW.\n"
          ],
          "name": "stderr"
        }
      ]
    },
    {
      "cell_type": "code",
      "metadata": {
        "collapsed": true,
        "id": "Zsb6GW_kpd4Q"
      },
      "source": [
        "# Fit the model to the data. This will generate samples from the posterior over\n",
        "# all parameters of the model. We start by computing posteriors for the treatment\n",
        "# data.\n",
        "\n",
        "stan_results = stan_model.sampling(data=eczema_data['treatment'])"
      ],
      "execution_count": 5,
      "outputs": []
    },
    {
      "cell_type": "code",
      "metadata": {
        "collapsed": true,
        "id": "p5PGZ8IYpd4Q",
        "colab": {
          "base_uri": "https://localhost:8080/"
        },
        "outputId": "fd74c5e6-a4c8-4a38-bd69-1fc2e5b49795"
      },
      "source": [
        "# Print out the mean, standard deviation and quantiles of all parameters.\n",
        "# These are approximate values derived from the samples generated by Stan.\n",
        "# You can ignore the \"lp__\" row for now. Pay attention to the row for\n",
        "# the \"p\" parameter of the model.\n",
        "#\n",
        "# The columns in the summary are\n",
        "#\n",
        "#  * mean: The expected value of the posterior over the parameter\n",
        "#  * se_mean: The estimated error in the posterior mean\n",
        "#  * sd: The standard deviation of the posterior over the parameter\n",
        "#  * 2.5%, etc.: Percentiles of the posterior over the parameter\n",
        "#  * n_eff: The effective number of samples generated by Stan. The\n",
        "#           larger this value, the better.\n",
        "#  * Rhat: An estimate of the quality of the samples. This should be\n",
        "#          close to 1.0, otherwise there might be a problem with the\n",
        "#          convergence of the sampler.\n",
        "\n",
        "print(stan_results)"
      ],
      "execution_count": 6,
      "outputs": [
        {
          "output_type": "stream",
          "text": [
            "Inference for Stan model: anon_model_4822bea325d0250e03828b3bc1bb8bdd.\n",
            "4 chains, each with iter=2000; warmup=1000; thin=1; \n",
            "post-warmup draws per chain=1000, total post-warmup draws=4000.\n",
            "\n",
            "       mean se_mean     sd   2.5%    25%    50%    75%  97.5%  n_eff   Rhat\n",
            "p      0.76  9.1e-4   0.04   0.68   0.73   0.76   0.78   0.82   1557    1.0\n",
            "lp__ -80.09    0.02   0.74 -82.18 -80.26  -79.8 -79.63 -79.58   1535    1.0\n",
            "\n",
            "Samples were drawn using NUTS at Wed Feb 10 18:35:56 2021.\n",
            "For each parameter, n_eff is a crude measure of effective sample size,\n",
            "and Rhat is the potential scale reduction factor on split chains (at \n",
            "convergence, Rhat=1).\n"
          ],
          "name": "stdout"
        }
      ]
    },
    {
      "cell_type": "code",
      "metadata": {
        "collapsed": true,
        "id": "ffohZPrEpd4Q",
        "colab": {
          "base_uri": "https://localhost:8080/"
        },
        "outputId": "ccd468d0-d24a-414c-98d7-4300c2022b40"
      },
      "source": [
        "# Specify which parameters you want to see in the summary table using\n",
        "# the \"pars\" keyword argument. Specify which percentiles you want to\n",
        "# see using the \"probs\" keyword argument.\n",
        "#\n",
        "# The statement below shows only the 2.5, 50, 97.5 percentiles for the\n",
        "# parameter p.\n",
        "\n",
        "print(stan_results.stansummary(pars=['p'], probs=[0.025, 0.5, 0.975]))"
      ],
      "execution_count": 7,
      "outputs": [
        {
          "output_type": "stream",
          "text": [
            "Inference for Stan model: anon_model_4822bea325d0250e03828b3bc1bb8bdd.\n",
            "4 chains, each with iter=2000; warmup=1000; thin=1; \n",
            "post-warmup draws per chain=1000, total post-warmup draws=4000.\n",
            "\n",
            "    mean se_mean     sd   2.5%    50%  97.5%  n_eff   Rhat\n",
            "p   0.76  9.1e-4   0.04   0.68   0.76   0.82   1557    1.0\n",
            "\n",
            "Samples were drawn using NUTS at Wed Feb 10 18:35:56 2021.\n",
            "For each parameter, n_eff is a crude measure of effective sample size,\n",
            "and Rhat is the potential scale reduction factor on split chains (at \n",
            "convergence, Rhat=1).\n"
          ],
          "name": "stdout"
        }
      ]
    },
    {
      "cell_type": "code",
      "metadata": {
        "collapsed": true,
        "id": "vTer_f8apd4R",
        "colab": {
          "base_uri": "https://localhost:8080/",
          "height": 298
        },
        "outputId": "2714c77f-df76-4aa2-d962-77170955a7dd"
      },
      "source": [
        "# Finally, we can extract the samples generated by Stan so that we\n",
        "# can plot them or calculate any other functions or expected values\n",
        "# we might be interested in.\n",
        "\n",
        "posterior_samples = stan_results.extract()\n",
        "plt.hist(posterior_samples['p'], bins=50, density=True)\n",
        "plt.title('Sampled posterior probability density for p')\n",
        "print(\n",
        "    \"Posterior 95% confidence interval for p:\",\n",
        "    np.percentile(posterior_samples['p'], [2.5, 97.5]))\n",
        "plt.show()"
      ],
      "execution_count": 8,
      "outputs": [
        {
          "output_type": "stream",
          "text": [
            "Posterior 95% confidence interval for p: [0.68155931 0.82394727]\n"
          ],
          "name": "stdout"
        },
        {
          "output_type": "display_data",
          "data": {
            "image/png": "[encoded data removed]",
            "text/plain": [
              "<Figure size 432x288 with 1 Axes>"
            ]
          },
          "metadata": {
            "tags": [],
            "needs_background": "light"
          }
        }
      ]
    },
    {
      "cell_type": "markdown",
      "metadata": {
        "id": "zUv3coN_pd4R"
      },
      "source": [
        "## Task 1\n",
        "* Reuse the code above to calculate the posterior 95% confidence interval for the probability of improvement in the **control group**.\n",
        "* Plot the posterior histograms of the probability of improvement in the treatment and control groups on the same figure."
      ]
    },
    {
      "cell_type": "code",
      "metadata": {
        "collapsed": true,
        "id": "vz67yMkmpd4R",
        "colab": {
          "base_uri": "https://localhost:8080/",
          "height": 298
        },
        "outputId": "18d96bfe-a122-4d72-b946-aeb644e898f7"
      },
      "source": [
        "#model for the control data\n",
        "stan_results_cont = stan_model.sampling(data=eczema_data['control'])\n",
        "\n",
        "#extract all the samples\n",
        "posterior_samples_cont = stan_results_cont.extract()\n",
        "\n",
        "#Plot\n",
        "plt.hist(posterior_samples_cont['p'], bins=50, density=True, label = \"Control\")\n",
        "plt.hist(posterior_samples['p'], bins=50, density=True, label =  \"Treatment\")\n",
        "plt.legend()\n",
        "plt.title('Sampled posterior probability density for p')\n",
        "plt.show()\n",
        "\n",
        "print(\n",
        "    \"Posterior 95% confidence interval for p:\",\n",
        "    np.percentile(posterior_samples_cont['p'], [2.5, 97.5]))"
      ],
      "execution_count": 13,
      "outputs": [
        {
          "output_type": "display_data",
          "data": {
            "image/png": "[encoded data removed]",
            "text/plain": [
              "<Figure size 432x288 with 1 Axes>"
            ]
          },
          "metadata": {
            "tags": [],
            "needs_background": "light"
          }
        },
        {
          "output_type": "stream",
          "text": [
            "Posterior 95% confidence interval for p: [0.38464623 0.55726623]\n"
          ],
          "name": "stdout"
        }
      ]
    },
    {
      "cell_type": "markdown",
      "metadata": {
        "id": "0PaHWGJypd4R"
      },
      "source": [
        "## Task 2\n",
        "* Using the samples from the treatment and control group posteriors, estimate the probability that treatment is at least 19% (in absolute terms) better than control, $P(p_t > p_c + 0.19)$. We computed this result in Session 3.2 where we solved the same model analytically using the algebra of conjugate distributions."
      ]
    },
    {
      "cell_type": "code",
      "metadata": {
        "collapsed": true,
        "id": "uAHFbPgvpd4S",
        "colab": {
          "base_uri": "https://localhost:8080/"
        },
        "outputId": "66769f08-c2f3-4d4d-e071-27354f47987c"
      },
      "source": [
        "#Compute the difference between the nth samples from both posteriors\n",
        "post_diff = np.array(posterior_samples['p']) - np.array(posterior_samples_cont['p'])\n",
        "\n",
        "#Evaluate the fraction that is bigger than 0.19 \n",
        "P_t_c = np.sum(post_diff > 0.19)/len(post_diff)\n",
        "\n",
        "P_t_c"
      ],
      "execution_count": 10,
      "outputs": [
        {
          "output_type": "execute_result",
          "data": {
            "text/plain": [
              "0.94875"
            ]
          },
          "metadata": {
            "tags": []
          },
          "execution_count": 10
        }
      ]
    }
  ]
}
