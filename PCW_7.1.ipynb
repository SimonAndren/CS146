{
 "cells": [
  {
   "cell_type": "code",
   "execution_count": 1,
   "metadata": {},
   "outputs": [],
   "source": [
    "import numpy as np\n",
    "import scipy.stats as sts\n",
    "import matplotlib.pyplot as plt\n",
    "import pandas as pd"
   ]
  },
  {
   "cell_type": "markdown",
   "metadata": {},
   "source": [
    "The outcomes for each variable of interest can be seen as binary. In the case of voting, each person voting can be seen as 1 trail. The outcome from each trail in binary in that either a person votes for a specific candidate or not. The support for a candidate is such the outcome from multipple independent trails with binary outcome which is a binomial distribution "
   ]
  },
  {
   "cell_type": "markdown",
   "metadata": {},
   "source": [
    "### Section 1"
   ]
  },
  {
   "cell_type": "code",
   "execution_count": 2,
   "metadata": {},
   "outputs": [],
   "source": [
    "#Define a general function to find the 95% confidence interval for error\n",
    "def find_95_confit(n, p):\n",
    "    \n",
    "    #Find the mode which will be the mean for the normal distribution\n",
    "    bi_mode = np.floor(n*p)\n",
    "    \n",
    "    #The variance for the binomial\n",
    "    bi_var = n*p*(1-p)\n",
    "    \n",
    "    #Sample 100 000 means from the normal distribution with mean = bi_mode and sd = sqrt(bi_var)\n",
    "    samples = np.array(sts.norm(loc = bi_mode, scale = np.sqrt(bi_var)).rvs(100000))/n\n",
    "    \n",
    "    #compute the error\n",
    "    error = samples-p\n",
    "    \n",
    "    #the upper bound for the confidence interval\n",
    "    upper_CI = np.percentile(error, [97.5])\n",
    "    \n",
    "    #return the rounded error\n",
    "    return round(upper_CI[0]*100)\n",
    "    \n",
    "    \n",
    "    \n",
    "    \n",
    "    "
   ]
  },
  {
   "cell_type": "code",
   "execution_count": 3,
   "metadata": {},
   "outputs": [
    {
     "name": "stdout",
     "output_type": "stream",
     "text": [
      "Error should be: 2 as expected\n"
     ]
    }
   ],
   "source": [
    "print(f\"Error should be: {find_95_confit(1000, 0.1)} as expected\")"
   ]
  },
  {
   "cell_type": "markdown",
   "metadata": {},
   "source": [
    "### Section 2"
   ]
  },
  {
   "cell_type": "code",
   "execution_count": 4,
   "metadata": {},
   "outputs": [],
   "source": [
    "#sample size and percentages\n",
    "lst_sample_size = [1000, 750, 500, 250, 100]\n",
    "lst_per = [0.1,0.2,0.3,0.4,0.5,0.6,0.7,0.8,0.9]\n",
    "\n",
    "error_array = np.zeros((9, 5))\n",
    "\n",
    "#Loop through each sample size and each percentage\n",
    "for i in range(len(lst_sample_size)):\n",
    "    \n",
    "    for j in range(len(lst_per)):\n",
    "        \n",
    "        error_array[j, i] = find_95_confit(lst_sample_size[i], lst_per[j])"
   ]
  },
  {
   "cell_type": "code",
   "execution_count": 5,
   "metadata": {},
   "outputs": [
    {
     "data": {
      "text/html": [
       "<div>\n",
       "<style scoped>\n",
       "    .dataframe tbody tr th:only-of-type {\n",
       "        vertical-align: middle;\n",
       "    }\n",
       "\n",
       "    .dataframe tbody tr th {\n",
       "        vertical-align: top;\n",
       "    }\n",
       "\n",
       "    .dataframe thead th {\n",
       "        text-align: right;\n",
       "    }\n",
       "</style>\n",
       "<table border=\"1\" class=\"dataframe\">\n",
       "  <thead>\n",
       "    <tr style=\"text-align: right;\">\n",
       "      <th></th>\n",
       "      <th>1000</th>\n",
       "      <th>750</th>\n",
       "      <th>500</th>\n",
       "      <th>250</th>\n",
       "      <th>100</th>\n",
       "    </tr>\n",
       "  </thead>\n",
       "  <tbody>\n",
       "    <tr>\n",
       "      <th>0.1</th>\n",
       "      <td>2.0</td>\n",
       "      <td>2.0</td>\n",
       "      <td>3.0</td>\n",
       "      <td>4.0</td>\n",
       "      <td>6.0</td>\n",
       "    </tr>\n",
       "    <tr>\n",
       "      <th>0.2</th>\n",
       "      <td>2.0</td>\n",
       "      <td>3.0</td>\n",
       "      <td>4.0</td>\n",
       "      <td>5.0</td>\n",
       "      <td>8.0</td>\n",
       "    </tr>\n",
       "    <tr>\n",
       "      <th>0.3</th>\n",
       "      <td>3.0</td>\n",
       "      <td>3.0</td>\n",
       "      <td>4.0</td>\n",
       "      <td>6.0</td>\n",
       "      <td>9.0</td>\n",
       "    </tr>\n",
       "    <tr>\n",
       "      <th>0.4</th>\n",
       "      <td>3.0</td>\n",
       "      <td>4.0</td>\n",
       "      <td>4.0</td>\n",
       "      <td>6.0</td>\n",
       "      <td>10.0</td>\n",
       "    </tr>\n",
       "    <tr>\n",
       "      <th>0.5</th>\n",
       "      <td>3.0</td>\n",
       "      <td>4.0</td>\n",
       "      <td>4.0</td>\n",
       "      <td>6.0</td>\n",
       "      <td>10.0</td>\n",
       "    </tr>\n",
       "    <tr>\n",
       "      <th>0.6</th>\n",
       "      <td>3.0</td>\n",
       "      <td>4.0</td>\n",
       "      <td>4.0</td>\n",
       "      <td>6.0</td>\n",
       "      <td>10.0</td>\n",
       "    </tr>\n",
       "    <tr>\n",
       "      <th>0.7</th>\n",
       "      <td>3.0</td>\n",
       "      <td>3.0</td>\n",
       "      <td>4.0</td>\n",
       "      <td>6.0</td>\n",
       "      <td>9.0</td>\n",
       "    </tr>\n",
       "    <tr>\n",
       "      <th>0.8</th>\n",
       "      <td>2.0</td>\n",
       "      <td>3.0</td>\n",
       "      <td>4.0</td>\n",
       "      <td>5.0</td>\n",
       "      <td>8.0</td>\n",
       "    </tr>\n",
       "    <tr>\n",
       "      <th>0.9</th>\n",
       "      <td>2.0</td>\n",
       "      <td>2.0</td>\n",
       "      <td>3.0</td>\n",
       "      <td>4.0</td>\n",
       "      <td>6.0</td>\n",
       "    </tr>\n",
       "  </tbody>\n",
       "</table>\n",
       "</div>"
      ],
      "text/plain": [
       "     1000  750   500   250   100 \n",
       "0.1   2.0   2.0   3.0   4.0   6.0\n",
       "0.2   2.0   3.0   4.0   5.0   8.0\n",
       "0.3   3.0   3.0   4.0   6.0   9.0\n",
       "0.4   3.0   4.0   4.0   6.0  10.0\n",
       "0.5   3.0   4.0   4.0   6.0  10.0\n",
       "0.6   3.0   4.0   4.0   6.0  10.0\n",
       "0.7   3.0   3.0   4.0   6.0   9.0\n",
       "0.8   2.0   3.0   4.0   5.0   8.0\n",
       "0.9   2.0   2.0   3.0   4.0   6.0"
      ]
     },
     "execution_count": 5,
     "metadata": {},
     "output_type": "execute_result"
    }
   ],
   "source": [
    "#Create a dataframe\n",
    "error_array_df = pd.DataFrame(error_array, columns=lst_sample_size, index=lst_per)\n",
    "error_array_df"
   ]
  },
  {
   "cell_type": "markdown",
   "metadata": {},
   "source": [
    "Discrepancies occur at\n",
    "(1000, 0.2, 0.8)\n",
    "(750, 0.3, 0.7)\n",
    "(500, 0.4, 0.5, 0.6)\n",
    "(250, 0.4, 0.5, 0.6)\n",
    "(100, 0.5)"
   ]
  },
  {
   "cell_type": "markdown",
   "metadata": {},
   "source": [
    "I believe these error are due to the floor function. We can see that the discrepancies happens where the error transition 1 percentage point in the poll data set. They likely round up for 2.5 which we round down. "
   ]
  }
 ],
 "metadata": {
  "kernelspec": {
   "display_name": "Python 3",
   "language": "python",
   "name": "python3"
  },
  "language_info": {
   "codemirror_mode": {
    "name": "ipython",
    "version": 3
   },
   "file_extension": ".py",
   "mimetype": "text/x-python",
   "name": "python",
   "nbconvert_exporter": "python",
   "pygments_lexer": "ipython3",
   "version": "3.6.12"
  }
 },
 "nbformat": 4,
 "nbformat_minor": 4
}
