{
 "cells": [
  {
   "cell_type": "code",
   "execution_count": 10,
   "metadata": {},
   "outputs": [],
   "source": [
    "#Import packages\n",
    "from scipy.optimize import minimize\n",
    "import numpy as np"
   ]
  },
  {
   "cell_type": "code",
   "execution_count": 11,
   "metadata": {},
   "outputs": [
    {
     "name": "stdout",
     "output_type": "stream",
     "text": [
      "[-7.45036449e-09]\n"
     ]
    }
   ],
   "source": [
    "def func(x):\n",
    "    \n",
    "    return x**2\n",
    "\n",
    "result = minimize(func, 1)\n",
    "x_opi = result.x\n",
    "\n",
    "print(x_opi)"
   ]
  },
  {
   "cell_type": "code",
   "execution_count": 12,
   "metadata": {},
   "outputs": [
    {
     "name": "stdout",
     "output_type": "stream",
     "text": [
      "[-1.07505143e-08 -1.07505143e-08]\n"
     ]
    }
   ],
   "source": [
    "def func(x):\n",
    "    \n",
    "    return x[0]**2 + x[1]**2\n",
    "\n",
    "result = minimize(func, np.array([1,1]))\n",
    "x_opi = result.x\n",
    "\n",
    "print(x_opi)"
   ]
  },
  {
   "cell_type": "code",
   "execution_count": 13,
   "metadata": {},
   "outputs": [],
   "source": [
    "#This is the normal inverse gamma function\n",
    "def norminvgamma_pdf(x, sigma2, mu, nu, alpha, beta):\n",
    "    '''\n",
    "    The probability density function of the normal-inverse-gamma distribution at\n",
    "    x (mean) and sigma2 (variance).\n",
    "    '''\n",
    "    return (\n",
    "        sts.norm.pdf(x, loc=mu, scale=np.sqrt(sigma2 / nu)) *\n",
    "        sts.invgamma.pdf(sigma2, a=alpha, scale=beta))"
   ]
  },
  {
   "cell_type": "code",
   "execution_count": 18,
   "metadata": {},
   "outputs": [
    {
     "name": "stdout",
     "output_type": "stream",
     "text": [
      "mu = 2.3000000229838147\n",
      "nu = 5.4999906215577\n",
      "alpha = 9.562498590173872\n",
      "beta = 23.546877384848045\n"
     ]
    }
   ],
   "source": [
    "#Method 1\n",
    "\n",
    "def param_func(x): #(mu_0, nu_0, alpa_0, beta_0)\n",
    "    \n",
    "    #first term is for the expected value for the mean mean\n",
    "    #second term is for the expected value for the variance beta/(alpha-1\n",
    "    #the third term is the variance for the for the mean beta/((alpa-1)*nu)\n",
    "    #the forth term is the variance for the variance beta^2/((alpha-1)^2*(alpha-2))\n",
    "    return (x[0]-2.3)**2 + (x[3]/(x[2]-1)-2.75)**2 + (x[3]/((x[2]-1)*x[1])-0.5)**2 + (x[3]**2/((x[2]-1)**2*(x[2]-2))-1)**2\n",
    "\n",
    "\n",
    "result = minimize(param_func, [2,1,3,2])\n",
    "\n",
    "mu_0 = result.x[0]\n",
    "nu_0 = result.x[1]\n",
    "alpha_0 = result.x[2]\n",
    "beta_0 = result.x[3]\n",
    "\n",
    "print(f\"mu = {mu_0}\")\n",
    "print(f\"nu = {nu_0}\")\n",
    "print(f\"alpha = {alpha_0}\")\n",
    "print(f\"beta = {beta_0}\")"
   ]
  },
  {
   "cell_type": "markdown",
   "metadata": {},
   "source": [
    "## Method 2\n",
    "\n",
    "mean = 2.3\n",
    "\n",
    "Variance = 2.75 = beta/(alpha-1)\n",
    "\n",
    "Var[mean] = 0.5 = beta/((alpha-1)*nu) = 0.5 * 2.75/nu --> nu = 5.5\n",
    "\n",
    "Var[variance] = 1 = beta^2/((alpha-1)^2*(alpha-2)) = variance^2/(alpha-2) = 2.75^2/(alpha-2) --> alpha = 2.75^2+2 = 9.56\n",
    "\n",
    "Variance = 2.75 = beta/(9.56-1) --> beta = 2.75*8.56 = 23.54\n",
    "\n",
    "mu_0 = 2.3\n",
    "nu_0 = result.x[1]\n",
    "alpha_0 = result.x[2]\n",
    "beta_0 = result.x[3]"
   ]
  }
 ],
 "metadata": {
  "kernelspec": {
   "display_name": "Python 3",
   "language": "python",
   "name": "python3"
  },
  "language_info": {
   "codemirror_mode": {
    "name": "ipython",
    "version": 3
   },
   "file_extension": ".py",
   "mimetype": "text/x-python",
   "name": "python",
   "nbconvert_exporter": "python",
   "pygments_lexer": "ipython3",
   "version": "3.6.12"
  }
 },
 "nbformat": 4,
 "nbformat_minor": 4
}
