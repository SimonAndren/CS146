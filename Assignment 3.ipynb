{
 "cells": [
  {
   "cell_type": "markdown",
   "metadata": {},
   "source": [
    "# Introduction\n",
    "\n",
    "This codebook include the writeup as well as the computations for the CS146 assignment: Posterior predictive check."
   ]
  },
  {
   "cell_type": "markdown",
   "metadata": {},
   "source": [
    "The assignment will evaluate how well the non-hierarchical model explains the observed data from the control groups in he medical trial dataset. It will do so by comparing the test statistics from the replicated data generated from the model with the actual observed data. If the model is a good fit to the data, then it will with a high accuracy replicate the observed characteristics of the dataset.\n",
    "\n",
    "For the non-hierarchical model, every trail has the same probability of success - Refered later to successrate. The number of successes for each trail comes from a binomal distribution with the same probability of success, however, differing in group size. The model assumes that the observed data is a sample from this model.\n",
    "\n",
    "The posterior distribution of the successrate from the non-hierarchical model is a beta distribution with alpha = 58 and beta = 65.\n",
    "\n",
    "To mitigate the influence from the differing group sizes, the test statistics will be used on the actual successfractions (Fraction of improvement) for the trails in each dataset. The choosen test statistics are:\n",
    "\n",
    "*  Mean successfraction - Indicate whether our model explain the average observed successfraction\n",
    "*  Variance successfraction - Indicate whether our model captures the variance in successfraction for the trails\n",
    "*  Minimum successfraction - Indicate whether our model explain any extremly low successfraction\n",
    "*  Maximum successfraction - Indicate whether our model explain any extremly high successfraction\n",
    "*  Range of successfraction - Indicate whether our model explains the range in observed successfraction\n"
   ]
  },
  {
   "cell_type": "code",
   "execution_count": 1,
   "metadata": {},
   "outputs": [],
   "source": [
    "import numpy as np\n",
    "import matplotlib.pyplot as plt\n",
    "import scipy.stats as sts"
   ]
  },
  {
   "cell_type": "code",
   "execution_count": 2,
   "metadata": {},
   "outputs": [],
   "source": [
    "def model_1(prior_alpha, prior_beta, data):\n",
    "    \"\"\"This function computes the posterior beta distribution from which the probability of success is drawn from\"\"\"\n",
    "    \n",
    "    post_alpha = prior_alpha + np.sum(data[:, 0]) #posterior alpha\n",
    "    post_beta = prior_alpha + np.sum(data[:, 1]) - np.sum(data[:, 0]) #posterior beta\n",
    "    \n",
    "    post_dist_p = sts.beta(a = post_alpha, b = post_beta) #posterior distribution\n",
    "    \n",
    "    return post_dist_p\n",
    "\n",
    "def test_stats(data_matrix):\n",
    "    \"\"\"This function computes the 1st, 2nd, 3rd, 4th, and 5th test statistic.\n",
    "    \n",
    "    The 1st test statistic is defined as the mean of the successfraction\n",
    "    The 2st test statistic is defined as the variance of the successfraction\n",
    "    The 3st test statistic is defined as the minimum successfraction for improvement\n",
    "    The 4rd test statstic is defined as the maximum successfraction for improvement\n",
    "    The 5nd test statistic is defined as the range of successfraction for improvement\n",
    "\"\"\"\n",
    "    \n",
    "    #divide the first element (#success) in the row with the second element in the row (#trails)\n",
    "    success_rates = np.divide(data_matrix[:,0], data_matrix[:,1])\n",
    "    \n",
    "    #test_statistics\n",
    "    mean = np.mean(success_rates) #mean\n",
    "    var = np.var(success_rates) #variance\n",
    "    mini = np.min(success_rates) #minimum successfraction\n",
    "    maxi = np.max(success_rates) #maximum successfraction\n",
    "    d_range = maxi-mini #range of successrate\n",
    "    \n",
    "    return [mean, var, mini, maxi, d_range]\n",
    "\n",
    "def posterior_predictive(model, sample_sizes):\n",
    "    \"\"\"This function generates a posterior predictive sample from the non-heiarchical model\n",
    "    \n",
    "    Samples 1 outcome from each of the trail sizes from the observed dataset\"\"\"\n",
    "    \n",
    "    #Sample from a binomial distribution with a sampled successrate (p) from the posterior beta distribution\n",
    "    #and samples sizes from the observed dataset \n",
    "    posterior_predictive_sample = sts.binom(p = model.rvs(), n = sample_sizes).rvs()\n",
    "    \n",
    "    #add the samples sizes to the dataset\n",
    "    posterior_predictive_sample = np.vstack((posterior_predictive_sample, sample_sizes))\n",
    "    \n",
    "    #return the transposed matrix\n",
    "    return np.transpose(posterior_predictive_sample)"
   ]
  },
  {
   "cell_type": "code",
   "execution_count": 3,
   "metadata": {},
   "outputs": [],
   "source": [
    "#This code cell defines the control group data and computes the posterior distribution for successrate\n",
    "\n",
    "data_ecz_cont = np.array([[9,15],[11,18],[4,10],[21,39],[12,29],[0,10]])\n",
    "posterior_dist = model_1(1, 1, data_ecz_cont)"
   ]
  },
  {
   "cell_type": "code",
   "execution_count": 4,
   "metadata": {},
   "outputs": [
    {
     "name": "stdout",
     "output_type": "stream",
     "text": [
      "Test statistics for observed dataset\n",
      "mean: 0.427 \n",
      "var: 0.043 \n",
      "min: 0.000 \n",
      "max: 0.611 \n",
      "range: 0.611 \n"
     ]
    }
   ],
   "source": [
    "#This cell computes the observed t_statistics for the observed dataset\n",
    "ob_t_stats = test_stats(data_ecz_cont) #compute t_stats\n",
    "\n",
    "#Summarize t_stats in dictionary\n",
    "ob_t_stats = {\n",
    "    \"mean\": ob_t_stats[0],\n",
    "    \"var\": ob_t_stats[1],\n",
    "    \"min\": ob_t_stats[2],\n",
    "    \"max\": ob_t_stats[3],\n",
    "    \"range\": ob_t_stats[4]\n",
    "}\n",
    "\n",
    "#print out the observed test_statistics\n",
    "print(\"Test statistics for observed dataset\")\n",
    "for key in ob_t_stats.keys():\n",
    "    print(f\"{key}: {ob_t_stats[key]:.3f} \")"
   ]
  },
  {
   "cell_type": "markdown",
   "metadata": {},
   "source": [
    "The test statistics show that the mean successfraction for the observed dataset is 0.4 and the variance is around 0.04. \n",
    "\n",
    "What stands out from these results is the minimum successfraction which is very low of 0%. One of the trails had a successfraction of 0, which is very low given the mean successfraction of around 0.4. If each trail had the same underlying successrate, obtaining a sample with a successfraction of 0 could possibly be very unlikely. However, to evaluate if this really is unlikly given the same underlying successrate, we will conduct a posterior predictive check on replicated data generated from the model. If our model (Number of success comes from binomial distribution with same successrate) accuratly explains the observed data, then the Bayesian P-value should be somewhere between 0.05 and 0.95 for us to not disgard our model. If p-values are low or even below te threshold, we should rethink our proposed model."
   ]
  },
  {
   "cell_type": "code",
   "execution_count": 5,
   "metadata": {},
   "outputs": [
    {
     "name": "stdout",
     "output_type": "stream",
     "text": [
      "Replicated data sample: [[ 7 15]\n",
      " [ 6 18]\n",
      " [ 6 10]\n",
      " [17 39]\n",
      " [15 29]\n",
      " [ 5 10]]\n",
      "\n",
      "Test statistics for replicated dataset\n",
      "Mean: 0.476\n",
      "Variance: 0.007\n",
      "Minimum: 0.333\n",
      "Maximum: 0.600\n",
      "Range: 0.267\n"
     ]
    }
   ],
   "source": [
    "#in this cell, a replicated data sample and it's corresponding test statistics is highlighted\n",
    "\n",
    "rep_data = posterior_predictive(posterior_dist, data_ecz_cont[:,1])\n",
    "t_stats = test_stats(rep_data)\n",
    "\n",
    "print(f\"Replicated data sample: {rep_data}\\n\")\n",
    "print(f\"Test statistics for replicated dataset\\nMean: {t_stats[0]:.3f}\\nVariance: {t_stats[1]:.3f}\\nMinimum: {t_stats[2]:.3f}\\nMaximum: {t_stats[3]:.3f}\\nRange: {t_stats[4]:.3f}\")"
   ]
  },
  {
   "cell_type": "markdown",
   "metadata": {},
   "source": [
    "From only one replicated sample, we can see that the mean is pretty similar to the observed data. This is expected since the model assumes same underlying successrate for each trial. The maximum is also pretty similar. \n",
    "\n",
    "However, it's worth noting the substantially larger minimum for the replicated dataset compared to the observed dataset. "
   ]
  },
  {
   "cell_type": "code",
   "execution_count": 6,
   "metadata": {},
   "outputs": [],
   "source": [
    "#In this cell, test statistics data for replicated data_sets will be obtained\n",
    "nr_replications = 10000\n",
    "\n",
    "#dictionary for test_statistics\n",
    "rep_t_stats = {\n",
    "    \"mean\": np.zeros(shape = nr_replications),\n",
    "    \"var\": np.zeros(shape = nr_replications),\n",
    "    \"min\": np.zeros(shape = nr_replications),\n",
    "    \"max\": np.zeros(shape = nr_replications),\n",
    "    \"range\": np.zeros(shape = nr_replications)\n",
    "}\n",
    "\n",
    "#generate 1000 samples and their t_stats\n",
    "for i in range(nr_replications):\n",
    "    t_stats = test_stats(posterior_predictive(posterior_dist, data_ecz_cont[:,1]))\n",
    "    \n",
    "    #append test statistic to dictionary\n",
    "    rep_t_stats[\"mean\"][i] = t_stats[0]\n",
    "    rep_t_stats[\"var\"][i] = t_stats[1]\n",
    "    rep_t_stats[\"min\"][i] = t_stats[2]\n",
    "    rep_t_stats[\"max\"][i] = t_stats[3]\n",
    "    rep_t_stats[\"range\"][i] = t_stats[4]"
   ]
  },
  {
   "cell_type": "markdown",
   "metadata": {},
   "source": [
    "In the following cells, I will plot histograms similar to the one from Gelman for each test statistic with their corresponding p-value"
   ]
  },
  {
   "cell_type": "markdown",
   "metadata": {},
   "source": [
    "### Mean\n",
    "\n",
    "The p-value for the test statistics: mean success fraction is around 0.7. This p-value is fairly close to 0.5 and it appears that the model accuratly captures the mean successrate. We can also see this as the replicated test statistics are distributed around the observed test statistics. \n",
    "\n",
    "These results are to expect since the non-hirarcical model assumes the same successrate for all the trials. The mean success fraction for the replicated data should thus be distribution around the mean success fraction from the observed data, since the underlying successrate is generated from a posterior distribution fitted to the observed data."
   ]
  },
  {
   "cell_type": "code",
   "execution_count": 7,
   "metadata": {},
   "outputs": [
    {
     "data": {
      "image/png": "[encoded data removed]",
      "text/plain": [
       "<Figure size 432x288 with 1 Axes>"
      ]
     },
     "metadata": {
      "needs_background": "light"
     },
     "output_type": "display_data"
    },
    {
     "name": "stdout",
     "output_type": "stream",
     "text": [
      "P-value:\n",
      "0.7369\n"
     ]
    }
   ],
   "source": [
    "#plot test statistic histogram for mean test statistics\n",
    "\n",
    "#plot histogram + title + axis\n",
    "plt.hist(rep_t_stats[\"mean\"], density = True, bins = 15)\n",
    "plt.xlabel(\"Success fraction\")\n",
    "plt.title(\"Mean success fraction for replicated data using non-hierarchical model\")\n",
    "\n",
    "#Line for observed mean\n",
    "plt.axvline(ob_t_stats[\"mean\"], color = 'red', label = 'Original Data')\n",
    "plt.legend()\n",
    "plt.show()\n",
    "\n",
    "print(\"P-value:\")\n",
    "print(np.mean(rep_t_stats[\"mean\"] > ob_t_stats[\"mean\"]))"
   ]
  },
  {
   "cell_type": "markdown",
   "metadata": {},
   "source": [
    "### Variance\n",
    "\n",
    "The p-value for the variance of success fraction is around 0.01 which is very low. The model thus not adequatly capture the variance in success fraction that the observed data has. This is evidence against that the non-hierarchical model would explain the observed data. The observed data appears to have a lot of variance around success fraction, which expectedly, is not the case for the non-hierarchical model since all trails have the same underlying successrate."
   ]
  },
  {
   "cell_type": "code",
   "execution_count": 8,
   "metadata": {},
   "outputs": [
    {
     "data": {
      "image/png": "[encoded data removed]",
      "text/plain": [
       "<Figure size 432x288 with 1 Axes>"
      ]
     },
     "metadata": {
      "needs_background": "light"
     },
     "output_type": "display_data"
    },
    {
     "name": "stdout",
     "output_type": "stream",
     "text": [
      "P-value:\n",
      "0.0062\n"
     ]
    }
   ],
   "source": [
    "#plot test statistic histogram for variance test statistics\n",
    "\n",
    "#plot histogram + title + axis\n",
    "plt.hist(rep_t_stats[\"var\"], density = True, bins = 15)\n",
    "plt.xlabel(\"Success fraction\")\n",
    "plt.title(\"Variance of success fraction for replicated data using non-hierarchical model\")\n",
    "\n",
    "#Line for observed variance\n",
    "plt.axvline(ob_t_stats[\"var\"], color = 'red', label = 'Original Data')\n",
    "plt.legend()\n",
    "plt.show()\n",
    "\n",
    "print(\"P-value:\")\n",
    "print(np.mean(rep_t_stats[\"var\"] > ob_t_stats[\"var\"]))"
   ]
  },
  {
   "cell_type": "markdown",
   "metadata": {},
   "source": [
    "### Minimum + Maximum + Range\n",
    "\n",
    "The p-value for both minimum and range is below/above the guideline of 0.05/0.95. The non-hierarchical model does not adequatly explain the minimum successfraction of 0 that we saw in the observed dataset. This to expected since obtaining a successfraction of 0, with group sizes of above 10 is very unlikely given the else farly high success fractions in the dataset which is seen in the posterior distribution for successrate. The model however does in fact explain the maximum successrate very well. The implications of the minimum successrate is seen in the range p value with is very low."
   ]
  },
  {
   "cell_type": "code",
   "execution_count": 9,
   "metadata": {},
   "outputs": [
    {
     "data": {
      "image/png": "[encoded data removed]",
      "text/plain": [
       "<Figure size 432x288 with 1 Axes>"
      ]
     },
     "metadata": {
      "needs_background": "light"
     },
     "output_type": "display_data"
    },
    {
     "name": "stdout",
     "output_type": "stream",
     "text": [
      "P-value:\n",
      "0.9961\n"
     ]
    },
    {
     "data": {
      "image/png": "[encoded data removed]",
      "text/plain": [
       "<Figure size 432x288 with 1 Axes>"
      ]
     },
     "metadata": {
      "needs_background": "light"
     },
     "output_type": "display_data"
    },
    {
     "name": "stdout",
     "output_type": "stream",
     "text": [
      "P-value:\n",
      "0.4668\n"
     ]
    },
    {
     "data": {
      "image/png": "[encoded data removed]",
      "text/plain": [
       "<Figure size 432x288 with 1 Axes>"
      ]
     },
     "metadata": {
      "needs_background": "light"
     },
     "output_type": "display_data"
    },
    {
     "name": "stdout",
     "output_type": "stream",
     "text": [
      "P-value:\n",
      "0.0082\n"
     ]
    }
   ],
   "source": [
    "#plot test statistic histogram for Minimum + Maximum + Range test statistics\n",
    "\n",
    "test_types = [\"min\", \"max\", \"range\"]\n",
    "\n",
    "for test in test_types:\n",
    "\n",
    "    #plot histogram + title + axis\n",
    "    plt.hist(rep_t_stats[test], density = True, bins = 15)\n",
    "    plt.xlabel(\"Success fraction\")\n",
    "    plt.title(f\"{test} of success fraction for replicated data using non-hierarchical model\")\n",
    "\n",
    "    #Line for observed test_statistic\n",
    "    plt.axvline(ob_t_stats[test], color = 'red', label = 'Original Data')\n",
    "    plt.legend()\n",
    "    plt.show()\n",
    "\n",
    "    print(\"P-value:\")\n",
    "    print(np.mean(rep_t_stats[test] > ob_t_stats[test]))"
   ]
  },
  {
   "cell_type": "markdown",
   "metadata": {},
   "source": [
    "# Summary\n",
    "\n",
    "The posterior predictive check reviels that the non-hierarcical model isn't a very good at explaining the observed control data set. While the mean and max success fraction is captured by the model, the variance within the successfraction and the minimum successfraction isn't properly captures. In the observed data, the minimum successfraction was 0, and the variance was around 0.04 while for the replicated data generated using the non-hierarcical model has it's mode in minimum successfraction around 0.3 and mode in variance around 0.01.\n",
    "\n",
    "In conclusion, the control group dataset isn't likely generated from a processes where the probability of improvement is the same for each trail."
   ]
  }
 ],
 "metadata": {
  "kernelspec": {
   "display_name": "Python 3",
   "language": "python",
   "name": "python3"
  },
  "language_info": {
   "codemirror_mode": {
    "name": "ipython",
    "version": 3
   },
   "file_extension": ".py",
   "mimetype": "text/x-python",
   "name": "python",
   "nbconvert_exporter": "python",
   "pygments_lexer": "ipython3",
   "version": "3.6.12"
  }
 },
 "nbformat": 4,
 "nbformat_minor": 4
}
