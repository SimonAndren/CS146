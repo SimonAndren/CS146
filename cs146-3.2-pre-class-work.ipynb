{
 "cells": [
  {
   "cell_type": "markdown",
   "metadata": {},
   "source": [
    "# Making predictions and decisions with medical trial data\n",
    "\n",
    "We have data for 6 studies that have been done on the effect of *specific allergen immunotherapy* (SIT) on eczema and the following success rates have been observed. In each of the trials, the investigator rated whether each patient's condition improved or not.\n",
    "\n",
    "This data set is from the [Cochrane Database of Systematic Reviews](http://www.cochranelibrary.com/) article cited below, available for free [here](http://onlinelibrary.wiley.com/doi/10.1002/14651858.CD008774.pub2/full). The Cochrane Database is a great resource for high quality data on all sorts of medical trials.\n",
    "\n",
    "> Tam H., Calderon M.A., Manikam L., Nankervis H., García Núñez I., Williams H.C., Durham S., Boyle R.J. (2016). Specific allergen immunotherapy for the treatment of atopic eczema. *Cochrane Database of Systematic Reviews, Issue 2*. Art. No.: CD008774. DOI: 10.1002/14651858.CD008774.pub2.\n",
    "\n",
    "| Study          | Improved | Not improved |\n",
    "|:-------------- | --------:| ------------:|\n",
    "| Di Rienzo 2014 | 20       | 3            |\n",
    "| Galli 1994     | 10       | 6            |\n",
    "| Kaufman 1974   | 13       | 3            |\n",
    "| Qin 2014       | 35       | 10           |\n",
    "| Sanchez 2012   | 22       | 9            |\n",
    "| Silny 2006     | 7        | 3            |\n",
    "| **Totals**     | **107**  | **34**       |\n",
    "\n",
    "## Task 1: Modeling\n",
    "**Build a statistical model for this data set.** As your data, use the total number of patients improved (107) and not improved (34).\n",
    "\n",
    "**Steps in the modeling process:**\n",
    "1. Motivate why the **binomial** distribution is an appropriate **likelihood function** for this type of data.\n",
    "    1. Make sure the support of your likelihood function matches the type of data we are working with.\n",
    "    2. Describe the unobserved parameter(s) of your model, and describe how it/they can be interpreted.\n",
    "2. Use the conjugate **beta prior distribution**.\n",
    "    1. Select appropriate values for the prior hyperparameters and motivate your choice.\n",
    "    2. Visualize your prior distribution.\n",
    "3. Compute and visualize the posterior distribution over the unobserved parameter(s) of your model. Also describe what the posterior tells you about the parameter(s).\n",
    "\n",
    "Feel free to discuss this task with other students in the course, or attempt it on your own if you prefer. Discussing your modeling ideas with other students is a useful way to get feedback on your assumptions."
   ]
  },
  {
   "cell_type": "markdown",
   "metadata": {},
   "source": [
    "In this medical situation, we can view each person reciving the treatment as either having a successful outcome or a failed outcome. The total number of persons with a successful treatment will thus always be a positive integer. Each event/trail are binomial since we only define success of failure. \n",
    "\n",
    "Binomial distribution is therefor appropriate for the likelihood function. The observed variables for the likelihood function is the number of trails which is 141, and the number of success/failure which is 107 and 34. The unovserved parameter is the bias which indicates the probability of a random person that recivies the treatment responds positively to it."
   ]
  },
  {
   "cell_type": "code",
   "execution_count": 1,
   "metadata": {},
   "outputs": [],
   "source": [
    "import numpy as np\n",
    "import matplotlib.pyplot as plt\n",
    "from scipy import stats as sts"
   ]
  },
  {
   "cell_type": "code",
   "execution_count": 2,
   "metadata": {},
   "outputs": [
    {
     "data": {
      "image/png": "[encoded data removed]",
      "text/plain": [
       "<Figure size 432x288 with 1 Axes>"
      ]
     },
     "metadata": {
      "needs_background": "light"
     },
     "output_type": "display_data"
    }
   ],
   "source": [
    "#beta prior\n",
    "\n",
    "#I decided these parameters as I believe that it's very unlikely that the treatment works for no one or everyone.\n",
    "#However, i believe it should work for more than it doesn't work for\n",
    "alpha = 5\n",
    "beta = 2\n",
    "\n",
    "#the beta dstribution\n",
    "beta_dist = sts.beta(a = alpha, b = beta)\n",
    "\n",
    "#Lambda ranging the support\n",
    "x = np.linspace(0,1,100)\n",
    "\n",
    "\n",
    "#plot\n",
    "plt.plot(x, beta_dist.pdf(x))\n",
    "plt.title(\"Beta prior distribution\")\n",
    "plt.show()"
   ]
  },
  {
   "cell_type": "code",
   "execution_count": 3,
   "metadata": {},
   "outputs": [
    {
     "name": "stdout",
     "output_type": "stream",
     "text": [
      "36\n"
     ]
    },
    {
     "data": {
      "image/png": "[encoded data removed]",
      "text/plain": [
       "<Figure size 432x288 with 1 Axes>"
      ]
     },
     "metadata": {
      "needs_background": "light"
     },
     "output_type": "display_data"
    }
   ],
   "source": [
    "sum_N = 141 #total number of trails\n",
    "sum_Xi = 107 #all the successes\n",
    "\n",
    "#the new hyperparameters\n",
    "alpha_post = alpha+sum_Xi\n",
    "beta_post = beta + sum_N - sum_Xi\n",
    "\n",
    "print(beta_post)\n",
    "\n",
    "beta_post = sts.beta(a = alpha_post, b = beta_post)\n",
    "\n",
    "plt.plot(x, beta_post.pdf(x))\n",
    "plt.title(\"posterior\")\n",
    "plt.show()\n"
   ]
  },
  {
   "cell_type": "markdown",
   "metadata": {},
   "source": [
    "From our posterior, we see that most of the mass is centered around 0.75 and we believe that the probability of a successful treatment is around 0.75"
   ]
  },
  {
   "cell_type": "markdown",
   "metadata": {},
   "source": [
    "## Task 2: Questions, predictions, and decisions\n",
    "1. **Beta-binomial posterior predictive distribution:** Use your model to predict how many patients would improve if we treated 100 new eczema patients using SIT. Express your answer as a probability distribution over the number of patients improved.\n",
    "2. Use your posterior to answer these questions:\n",
    "    1. What is the probability that at least two thirds of eczema patients get better with SIT?\n",
    "    2. What is the probability that at least 75% of eczema patients get better with SIT?\n",
    "3. Use your model to decide whether the treatment works or not. Motivate your answer.\n",
    "\n",
    "The beta-binomial distribution has the following parameters.\n",
    "\n",
    "* $n \\in \\mathbb{N}_0$ – the number of trials\n",
    "* $\\alpha, \\beta \\in \\mathbb{R}^+$ – corresponding to the parameters of the beta distribution\n",
    "\n",
    "The probability mass function of the beta-binomial distribution is\n",
    "\n",
    "$$p(k | n,\\alpha,\\beta) = \\binom{n}{k}\\frac{B(k+\\alpha,n-k+\\beta)}{B(\\alpha,\\beta)}$$\n",
    "\n",
    "where $B$ is the beta function. See the code below for how to evaluate the beta-binomial pmf in Python."
   ]
  },
  {
   "cell_type": "code",
   "execution_count": 4,
   "metadata": {},
   "outputs": [],
   "source": [
    "n = 100\n",
    "k = list(range(1,n+1))"
   ]
  },
  {
   "cell_type": "code",
   "execution_count": 5,
   "metadata": {},
   "outputs": [],
   "source": [
    "# Beta-binomial pmf with k successful trials out of n total\n",
    "# trials and alpha and beta parameters.\n",
    "def beta_binomial_pmf(k, n, alpha, beta):\n",
    "    from scipy.special import beta as beta_function, comb\n",
    "    return comb(n, k) * beta_function(k + alpha, n - k + beta) / beta_function(alpha, beta)"
   ]
  },
  {
   "cell_type": "code",
   "execution_count": 7,
   "metadata": {},
   "outputs": [
    {
     "data": {
      "image/png": "[encoded data removed]",
      "text/plain": [
       "<Figure size 432x288 with 1 Axes>"
      ]
     },
     "metadata": {
      "needs_background": "light"
     },
     "output_type": "display_data"
    }
   ],
   "source": [
    "#For some reason i don't understand, I couldn't input the beta_post. however, the beta_post value is 36\n",
    "plt.plot(k, [beta_binomial_pmf(k_i, n, alpha = alpha_post, beta = 36) for k_i in k])\n",
    "plt.show()"
   ]
  },
  {
   "cell_type": "code",
   "execution_count": 11,
   "metadata": {},
   "outputs": [
    {
     "data": {
      "text/plain": [
       "0.05445395710539814"
      ]
     },
     "execution_count": 11,
     "metadata": {},
     "output_type": "execute_result"
    }
   ],
   "source": [
    "#Since we are dealing with discrete values, we can just sum up all the values for k uo to 66\n",
    "sum([beta_binomial_pmf(k_i, n, alpha = alpha_post, beta = 36) for k_i in k[0:2*round(len(k)/3)]])\n",
    "\n",
    "#it's around 5% chance that two thirds of the trails are successful for a 100 person study"
   ]
  },
  {
   "cell_type": "code",
   "execution_count": 14,
   "metadata": {},
   "outputs": [
    {
     "data": {
      "text/plain": [
       "0.47292420494060516"
      ]
     },
     "execution_count": 14,
     "metadata": {},
     "output_type": "execute_result"
    }
   ],
   "source": [
    "sum([beta_binomial_pmf(k_i, n, alpha = alpha_post, beta = 36) for k_i in k[0:3*round(len(k)/4)]])\n",
    "\n",
    "#it's around 5% chance that three fourth of the trails are successful for a 100 person study"
   ]
  },
  {
   "cell_type": "code",
   "execution_count": null,
   "metadata": {},
   "outputs": [],
   "source": [
    "For "
   ]
  }
 ],
 "metadata": {
  "kernelspec": {
   "display_name": "Python 3",
   "language": "python",
   "name": "python3"
  },
  "language_info": {
   "codemirror_mode": {
    "name": "ipython",
    "version": 3
   },
   "file_extension": ".py",
   "mimetype": "text/x-python",
   "name": "python",
   "nbconvert_exporter": "python",
   "pygments_lexer": "ipython3",
   "version": "3.6.12"
  }
 },
 "nbformat": 4,
 "nbformat_minor": 4
}
